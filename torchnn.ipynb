{
  "nbformat": 4,
  "nbformat_minor": 0,
  "metadata": {
    "colab": {
      "provenance": [],
      "gpuType": "T4"
    },
    "kernelspec": {
      "name": "python3",
      "display_name": "Python 3"
    },
    "language_info": {
      "name": "python"
    },
    "accelerator": "GPU"
  },
  "cells": [
    {
      "cell_type": "code",
      "execution_count": 1,
      "metadata": {
        "id": "bB9-8C-iSfG_"
      },
      "outputs": [],
      "source": [
        "#Imorting the dependencies\n",
        "import torch # Import the entire torch module\n",
        "from torch import nn\n",
        "from torch.optim import Adam\n",
        "from torch.utils.data import DataLoader\n",
        "from torchvision import datasets\n",
        "from torchvision.transforms import ToTensor"
      ]
    },
    {
      "cell_type": "code",
      "source": [
        "#Get data\n",
        "train=datasets.MNIST(root=\"data\",download=True,train=True,transform=ToTensor())\n",
        "dataset=DataLoader(train,32)"
      ],
      "metadata": {
        "colab": {
          "base_uri": "https://localhost:8080/"
        },
        "id": "3nxYPgcDVSMr",
        "outputId": "5f342a03-d812-4119-a5d4-da787258dac0"
      },
      "execution_count": 3,
      "outputs": [
        {
          "output_type": "stream",
          "name": "stdout",
          "text": [
            "Downloading http://yann.lecun.com/exdb/mnist/train-images-idx3-ubyte.gz\n",
            "Using downloaded and verified file: data/MNIST/raw/train-images-idx3-ubyte.gz\n",
            "Extracting data/MNIST/raw/train-images-idx3-ubyte.gz to data/MNIST/raw\n",
            "\n",
            "Downloading http://yann.lecun.com/exdb/mnist/train-labels-idx1-ubyte.gz\n",
            "Using downloaded and verified file: data/MNIST/raw/train-labels-idx1-ubyte.gz\n",
            "Extracting data/MNIST/raw/train-labels-idx1-ubyte.gz to data/MNIST/raw\n",
            "\n",
            "Downloading http://yann.lecun.com/exdb/mnist/t10k-images-idx3-ubyte.gz\n",
            "Using downloaded and verified file: data/MNIST/raw/t10k-images-idx3-ubyte.gz\n",
            "Extracting data/MNIST/raw/t10k-images-idx3-ubyte.gz to data/MNIST/raw\n",
            "\n",
            "Downloading http://yann.lecun.com/exdb/mnist/t10k-labels-idx1-ubyte.gz\n",
            "Failed to download (trying next):\n",
            "HTTP Error 403: Forbidden\n",
            "\n",
            "Downloading https://ossci-datasets.s3.amazonaws.com/mnist/t10k-labels-idx1-ubyte.gz\n",
            "Downloading https://ossci-datasets.s3.amazonaws.com/mnist/t10k-labels-idx1-ubyte.gz to data/MNIST/raw/t10k-labels-idx1-ubyte.gz\n"
          ]
        },
        {
          "output_type": "stream",
          "name": "stderr",
          "text": [
            "100%|██████████| 4542/4542 [00:00<00:00, 2516582.40it/s]"
          ]
        },
        {
          "output_type": "stream",
          "name": "stdout",
          "text": [
            "Extracting data/MNIST/raw/t10k-labels-idx1-ubyte.gz to data/MNIST/raw\n",
            "\n"
          ]
        },
        {
          "output_type": "stream",
          "name": "stderr",
          "text": [
            "\n"
          ]
        }
      ]
    },
    {
      "cell_type": "code",
      "source": [
        "#1,28,28 , classes 0-9\n",
        "#Image classifier Neural Network\n",
        "class ImageClassifier(nn.Module):\n",
        "    def __init__(self):\n",
        "        super().__init__()\n",
        "        self.model=nn.Sequential(\n",
        "            nn.Conv2d(1,32,(3,3)),\n",
        "            nn.ReLU(),\n",
        "            nn.Conv2d(32,64,(3,3)),\n",
        "            nn.ReLU(),\n",
        "            nn.Conv2d(64,64,(3,3)),\n",
        "            nn.ReLU(),\n",
        "            nn.Flatten(),\n",
        "            nn.Linear(64*(28-6)*(28-6),10)\n",
        "        )\n",
        "    def forward(self,x):\n",
        "        return self.model(x)"
      ],
      "metadata": {
        "id": "wtaE9R6eXwLW"
      },
      "execution_count": 4,
      "outputs": []
    },
    {
      "cell_type": "code",
      "source": [
        "#Instance of the neural network ,loss and optimizer\n",
        "clf=ImageClassifier().to(\"cuda\")\n",
        "opt=Adam(clf.parameters(),lr=1e-3)\n",
        "loss_fn=nn.CrossEntropyLoss()"
      ],
      "metadata": {
        "id": "3NueLN-gYCHe"
      },
      "execution_count": 5,
      "outputs": []
    },
    {
      "cell_type": "code",
      "source": [
        "#Training flow\n",
        "if __name__==\"__main__\":\n",
        "    for epoch in range(10):\n",
        "        for batch in dataset:\n",
        "            X,y=batch\n",
        "            X,y=X.to(\"cuda\"),y.to(\"cuda\")\n",
        "            y_pred=clf(X)\n",
        "            loss=loss_fn(y_pred,y)\n",
        "            #Apply backprop\n",
        "            opt.zero_grad()\n",
        "            loss.backward()\n",
        "            opt.step()\n",
        "        #The print statement should be indented to be part of the outer loop\n",
        "        print(f\"Epoch:{epoch} loss is {loss.item()}\")\n",
        "    with open(\"model_state.pt\",\"wb\") as f:\n",
        "        torch.save(clf.state_dict(),f)"
      ],
      "metadata": {
        "colab": {
          "base_uri": "https://localhost:8080/"
        },
        "id": "-Itm5vkacihd",
        "outputId": "16a6d8f3-1932-4073-936b-cd5149040a56"
      },
      "execution_count": 6,
      "outputs": [
        {
          "output_type": "stream",
          "name": "stdout",
          "text": [
            "Epoch:0 loss is 0.04792540520429611\n",
            "Epoch:1 loss is 0.006699020974338055\n",
            "Epoch:2 loss is 0.00041536608478054404\n",
            "Epoch:3 loss is 0.00035318336449563503\n",
            "Epoch:4 loss is 0.0008428161963820457\n",
            "Epoch:5 loss is 4.064198037667666e-06\n",
            "Epoch:6 loss is 7.97209509073582e-07\n",
            "Epoch:7 loss is 1.5459863789146766e-06\n",
            "Epoch:8 loss is 9.207843504555058e-06\n",
            "Epoch:9 loss is 2.454916284477804e-06\n"
          ]
        }
      ]
    }
  ]
}